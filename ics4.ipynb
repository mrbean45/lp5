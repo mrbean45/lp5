{
 "cells": [
  {
   "cell_type": "code",
   "execution_count": 1,
   "id": "ccd18bb3",
   "metadata": {},
   "outputs": [
    {
     "name": "stdout",
     "output_type": "stream",
     "text": [
      "Public key: (65537, 5398684351634418253681544318311304217941615649545340319813956402199065231598020413137415609022446999176413788744232153400106873306988529694431998526825469)\n",
      "Private key: (4465857069367787918074333004693695707268700264107321585639776285646549634566969188833677107459282552251528058187408405791624665158433064628738802680928129, 5398684351634418253681544318311304217941615649545340319813956402199065231598020413137415609022446999176413788744232153400106873306988529694431998526825469)\n",
      "Original: Hello, RSA!\n",
      "Encrypted: 4820512078757494516279292236271134439281213822311150477479987597374387721550421730324898298130521782758718834788554728202682521114115290718352257346913042\n",
      "Decrypted: Hello, RSA!\n"
     ]
    }
   ],
   "source": [
    "from sympy import randprime\n",
    "from math import gcd\n",
    "import random\n",
    "\n",
    "def generate_keys(bits=512):\n",
    "    # Generate two random prime numbers\n",
    "    p = randprime(2**(bits-1), 2**bits)\n",
    "    q = randprime(2**(bits-1), 2**bits)\n",
    "    \n",
    "    # Calculate n and phi\n",
    "    n = p * q\n",
    "    phi = (p - 1) * (q - 1)\n",
    "    \n",
    "    # Choose e\n",
    "    e = 65537  # Common choice for e\n",
    "    \n",
    "    # Calculate d (modular multiplicative inverse of e modulo phi)\n",
    "    d = pow(e, -1, phi)\n",
    "    \n",
    "    return (e, n), (d, n)\n",
    "\n",
    "def encrypt(message, public_key):\n",
    "    e, n = public_key\n",
    "    # Convert message to integer\n",
    "    m = int.from_bytes(message.encode(), 'big')\n",
    "    # Encrypt\n",
    "    return pow(m, e, n)\n",
    "\n",
    "def decrypt(ciphertext, private_key):\n",
    "    d, n = private_key\n",
    "    # Decrypt\n",
    "    m = pow(ciphertext, d, n)\n",
    "    # Convert back to bytes and decode\n",
    "    byte_length = (m.bit_length() + 7) // 8\n",
    "    return m.to_bytes(byte_length, 'big').decode()\n",
    "\n",
    "# Example usage\n",
    "if __name__ == \"__main__\":\n",
    "    # Generate keys\n",
    "    public_key, private_key = generate_keys(bits=256)  # Smaller key for demonstration\n",
    "    print(f\"Public key: {public_key}\")\n",
    "    print(f\"Private key: {private_key}\")\n",
    "    \n",
    "    # Encrypt and decrypt a message\n",
    "    message = \"Hello, RSA!\"\n",
    "    print(f\"Original: {message}\")\n",
    "    \n",
    "    encrypted = encrypt(message, public_key)\n",
    "    print(f\"Encrypted: {encrypted}\")\n",
    "    \n",
    "    decrypted = decrypt(encrypted, private_key)\n",
    "    print(f\"Decrypted: {decrypted}\")"
   ]
  }
 ],
 "metadata": {
  "kernelspec": {
   "display_name": ".venv",
   "language": "python",
   "name": "python3"
  },
  "language_info": {
   "codemirror_mode": {
    "name": "ipython",
    "version": 3
   },
   "file_extension": ".py",
   "mimetype": "text/x-python",
   "name": "python",
   "nbconvert_exporter": "python",
   "pygments_lexer": "ipython3",
   "version": "3.13.3"
  }
 },
 "nbformat": 4,
 "nbformat_minor": 5
}
